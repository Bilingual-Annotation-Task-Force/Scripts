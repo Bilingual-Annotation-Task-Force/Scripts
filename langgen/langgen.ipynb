{
 "cells": [
  {
   "cell_type": "code",
   "execution_count": 1,
   "metadata": {},
   "outputs": [
    {
     "data": {
      "text/html": [
       "<div>\n",
       "<style scoped>\n",
       "    .dataframe tbody tr th:only-of-type {\n",
       "        vertical-align: middle;\n",
       "    }\n",
       "\n",
       "    .dataframe tbody tr th {\n",
       "        vertical-align: top;\n",
       "    }\n",
       "\n",
       "    .dataframe thead th {\n",
       "        text-align: right;\n",
       "    }\n",
       "</style>\n",
       "<table border=\"1\" class=\"dataframe\">\n",
       "  <thead>\n",
       "    <tr style=\"text-align: right;\">\n",
       "      <th></th>\n",
       "      <th>Number</th>\n",
       "      <th>Token</th>\n",
       "      <th>Language</th>\n",
       "      <th>Named Entity</th>\n",
       "      <th>POS</th>\n",
       "      <th>Universal Dependency</th>\n",
       "      <th>Sentence</th>\n",
       "    </tr>\n",
       "  </thead>\n",
       "  <tbody>\n",
       "    <tr>\n",
       "      <th>0</th>\n",
       "      <td>1000</td>\n",
       "      <td>.</td>\n",
       "      <td>Spn</td>\n",
       "      <td>O</td>\n",
       "      <td>.</td>\n",
       "      <td>PUNCT</td>\n",
       "      <td>s0</td>\n",
       "    </tr>\n",
       "    <tr>\n",
       "      <th>1</th>\n",
       "      <td>1001</td>\n",
       "      <td>Mil</td>\n",
       "      <td>Spn</td>\n",
       "      <td>O</td>\n",
       "      <td>NUM</td>\n",
       "      <td>NUM</td>\n",
       "      <td>s1</td>\n",
       "    </tr>\n",
       "    <tr>\n",
       "      <th>2</th>\n",
       "      <td>1002</td>\n",
       "      <td>gracias</td>\n",
       "      <td>Spn</td>\n",
       "      <td>O</td>\n",
       "      <td>NOUN</td>\n",
       "      <td>NOUN</td>\n",
       "      <td>s1</td>\n",
       "    </tr>\n",
       "    <tr>\n",
       "      <th>3</th>\n",
       "      <td>1003</td>\n",
       "      <td>.</td>\n",
       "      <td>Spn</td>\n",
       "      <td>O</td>\n",
       "      <td>.</td>\n",
       "      <td>PUNCT</td>\n",
       "      <td>s1</td>\n",
       "    </tr>\n",
       "    <tr>\n",
       "      <th>4</th>\n",
       "      <td>1004</td>\n",
       "      <td>I</td>\n",
       "      <td>Eng</td>\n",
       "      <td>O</td>\n",
       "      <td>PRON</td>\n",
       "      <td>PRON</td>\n",
       "      <td>s2</td>\n",
       "    </tr>\n",
       "  </tbody>\n",
       "</table>\n",
       "</div>"
      ],
      "text/plain": [
       "   Number    Token Language Named Entity   POS Universal Dependency Sentence\n",
       "0    1000        .      Spn            O     .                PUNCT       s0\n",
       "1    1001      Mil      Spn            O   NUM                  NUM       s1\n",
       "2    1002  gracias      Spn            O  NOUN                 NOUN       s1\n",
       "3    1003        .      Spn            O     .                PUNCT       s1\n",
       "4    1004        I      Eng            O  PRON                 PRON       s2"
      ]
     },
     "execution_count": 1,
     "metadata": {},
     "output_type": "execute_result"
    }
   ],
   "source": [
    "import random\n",
    "import pandas as pd\n",
    "data = pd.read_table('kc_gold.tsv')\n",
    "data.head()"
   ]
  },
  {
   "cell_type": "code",
   "execution_count": 2,
   "metadata": {},
   "outputs": [
    {
     "data": {
      "text/plain": [
       "PUNCT    1397\n",
       "NOUN      820\n",
       "ADP       748\n",
       "ADJ       685\n",
       "VERB      638\n",
       "DET       637\n",
       "ADV       508\n",
       "PROPN     439\n",
       "PRON      378\n",
       "CCONJ     244\n",
       "X         166\n",
       "PART      136\n",
       "AUX       102\n",
       "SCONJ      63\n",
       "NUM        41\n",
       "Name: Universal Dependency, dtype: int64"
      ]
     },
     "execution_count": 2,
     "metadata": {},
     "output_type": "execute_result"
    }
   ],
   "source": [
    "def peek(d): # https://stackoverflow.com/a/28704691/\n",
    "    return dict(list(d.items())[:5])\n",
    "\n",
    "data['Universal Dependency'].value_counts()"
   ]
  },
  {
   "cell_type": "code",
   "execution_count": 60,
   "metadata": {},
   "outputs": [
    {
     "data": {
      "text/plain": [
       "{('PUNCT', 'NUM'): {'switch': 1},\n",
       " ('NUM', 'NOUN'): {'stay': 7, 'switch': 1},\n",
       " ('NOUN', 'PUNCT'): {'switch': 90, 'stay': 88},\n",
       " ('PUNCT', 'PROPN'): {'stay': 28, 'switch': 8},\n",
       " ('NOUN', 'ADP'): {'switch': 11, 'stay': 111}}"
      ]
     },
     "execution_count": 60,
     "metadata": {},
     "output_type": "execute_result"
    }
   ],
   "source": [
    "feat = 'Universal Dependency'\n",
    "n = 2\n",
    "n_gram = ()\n",
    "\n",
    "word4feat = {}\n",
    "lang_switch_count_all = {} # probability of switching language\n",
    "next_count_all = {} # counts of next feature\n",
    "last_lang = None\n",
    "langs = set()\n",
    "\n",
    "for i, row in data.iterrows():\n",
    "    if len(n_gram) < n:\n",
    "        n_gram += (row[feat],)\n",
    "        continue # to get at least n things\n",
    "    \n",
    "    lang = row['Language']\n",
    "    langs.add(lang)\n",
    "    if lang not in lang_switch_count_all:\n",
    "        lang_switch_count_all[lang] = {}\n",
    "    lang_switch_count = lang_switch_count_all[lang]\n",
    "    if lang not in next_count_all:\n",
    "        next_count_all[lang] = {}\n",
    "    next_count = next_count_all[lang]\n",
    "    \n",
    "    lang_cat = 'switch' if row['Language'] != last_lang else 'stay'\n",
    "    last_lang = row['Language']\n",
    "    if n_gram not in lang_switch_count:\n",
    "        lang_switch_count[n_gram] = {}\n",
    "    lang_switch_count[n_gram][lang_cat] = lang_switch_count[n_gram].get(lang_cat, 0) + 1\n",
    "    \n",
    "    if n_gram not in next_count:\n",
    "        next_count[n_gram] = {}\n",
    "    next_count[n_gram][row[feat]] = next_count.get(row[feat], 0) + 1\n",
    "\n",
    "    n_gram = list(n_gram)\n",
    "    n_gram.append(row[feat]) # aaaaaaaaaaaaaaaa\n",
    "    if len(n_gram) > n:\n",
    "        n_gram.pop(0)\n",
    "    n_gram = tuple(n_gram)\n",
    "    \n",
    "    key = (lang, row[feat])\n",
    "    if key not in word4feat:\n",
    "        word4feat[key] = set()\n",
    "    word4feat[key].add(row['Token'])\n",
    "    lang_switch_count_all[lang] = lang_switch_count\n",
    "\n",
    "peek(lang_switch_count_all['Spn'])"
   ]
  },
  {
   "cell_type": "code",
   "execution_count": 61,
   "metadata": {},
   "outputs": [
    {
     "data": {
      "text/plain": [
       "{('PUNCT', 'NUM'): 1.0,\n",
       " ('NUM', 'NOUN'): 0.125,\n",
       " ('NOUN', 'PUNCT'): 0.5056179775280899,\n",
       " ('PUNCT', 'PROPN'): 0.2222222222222222,\n",
       " ('NOUN', 'ADP'): 0.09016393442622951}"
      ]
     },
     "execution_count": 61,
     "metadata": {},
     "output_type": "execute_result"
    }
   ],
   "source": [
    "lang_switch_prob_all = {} # probability of switching language\n",
    "next_pos_prob_all = {} # probs of next POS\n",
    "\n",
    "for lang in langs:\n",
    "    lang_switch_count = lang_switch_count_all[lang]\n",
    "    next_count = next_count_all[lang]\n",
    "    \n",
    "    lang_switch_prob = {}\n",
    "    next_pos_prob = {}\n",
    "\n",
    "    for n_gram in lang_switch_count:\n",
    "        counts = lang_switch_count[n_gram]\n",
    "        lang_switch_prob[n_gram] = counts.get('switch', 0) / (counts.get('switch', 0) + counts.get('stay', 0))\n",
    "\n",
    "    for n_gram in next_count:\n",
    "        following = next_count[n_gram]\n",
    "        total = 0\n",
    "        for f in following:\n",
    "            total += following[f]\n",
    "        next_pos_prob[n_gram] = {}\n",
    "        for f in following:\n",
    "            next_pos_prob[n_gram][f] = following[f] / total\n",
    "    \n",
    "    lang_switch_prob_all[lang] = lang_switch_prob\n",
    "    next_pos_prob_all[lang] = next_pos_prob\n",
    "\n",
    "peek(lang_switch_prob_all['Spn'])"
   ]
  },
  {
   "cell_type": "code",
   "execution_count": 62,
   "metadata": {},
   "outputs": [
    {
     "name": "stdout",
     "output_type": "stream",
     "text": [
      "Unable to find something to follow ('NUM',) in Spn\n",
      "[('Num', 'NUM'), ('Eng', 'NOUN'), ('Eng', 'PUNCT')]\n",
      "23 way .\n"
     ]
    }
   ],
   "source": [
    "langs = lang_switch_prob_all.keys()\n",
    "\n",
    "def pick_word(lang, feat):\n",
    "    return random.sample(word4feat[(lang, feat)], 1)\n",
    "\n",
    "def switch_lang(lang, n_gram):\n",
    "    switch_prob = lang_switch_prob_all[lang].get(n_gram, 0)\n",
    "    return random.random() > switch_prob\n",
    "\n",
    "lang = random.sample(langs, 1)[0]\n",
    "sent = random.sample(word4feat.keys(), 1)\n",
    "\n",
    "for i in range(30):\n",
    "#     print(sent)\n",
    "    n_gram = tuple([x[1] for x in sent[-n:]])\n",
    "    if switch_lang(lang, n_gram):\n",
    "        if lang == 'Spn':\n",
    "            lang = 'Eng'\n",
    "        else:\n",
    "            lang = 'Spn'\n",
    "#     print(n_gram)\n",
    "    candidates = next_pos_prob_all[lang].get(n_gram)\n",
    "    if candidates is None:\n",
    "        print('Unable to find something to follow', n_gram, 'in', lang)\n",
    "        sent.append(random.sample(word4feat.keys(), 1)[0])\n",
    "    else:\n",
    "        population = list(candidates.keys())\n",
    "        weights = [candidates[f] for f in candidates.keys()]\n",
    "        chosen_feat = random.choices(population, weights)[0]\n",
    "        sent.append((lang, chosen_feat,))\n",
    "        if chosen_feat == \"PUNCT\":\n",
    "            break\n",
    "#         print(\"yay\")\n",
    "\n",
    "print(sent)\n",
    "print(\" \".join([pick_word(x[0], x[1])[0] for x in sent]))"
   ]
  }
 ],
 "metadata": {
  "kernelspec": {
   "display_name": "Python 3",
   "language": "python",
   "name": "python3"
  },
  "language_info": {
   "codemirror_mode": {
    "name": "ipython",
    "version": 3
   },
   "file_extension": ".py",
   "mimetype": "text/x-python",
   "name": "python",
   "nbconvert_exporter": "python",
   "pygments_lexer": "ipython3",
   "version": "3.7.1"
  }
 },
 "nbformat": 4,
 "nbformat_minor": 2
}
